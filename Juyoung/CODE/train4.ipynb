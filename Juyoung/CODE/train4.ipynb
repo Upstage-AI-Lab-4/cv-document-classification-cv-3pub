{
 "cells": [
  {
   "cell_type": "markdown",
   "metadata": {},
   "source": [
    "### 회전 추가"
   ]
  },
  {
   "cell_type": "code",
   "execution_count": null,
   "metadata": {},
   "outputs": [],
   "source": [
    "import os\n",
    "import numpy as np\n",
    "from PIL import Image, ImageOps\n",
    "import pandas as pd\n",
    "from tqdm import tqdm\n",
    "\n",
    "import albumentations as A\n",
    "import matplotlib.pyplot as plt \n",
    "from glob import glob \n",
    "\n",
    "import cv2"
   ]
  },
  {
   "cell_type": "code",
   "execution_count": 11,
   "metadata": {},
   "outputs": [],
   "source": [
    "df = pd.read_csv('/root/CV_PJT/CV_PJT/data/data/train.csv')"
   ]
  },
  {
   "cell_type": "code",
   "execution_count": null,
   "metadata": {},
   "outputs": [
    {
     "name": "stderr",
     "output_type": "stream",
     "text": [
      "Image rotation: 1570it [02:21, 11.10it/s]\n"
     ]
    }
   ],
   "source": [
    "ids = []\n",
    "targets = []\n",
    "data_path = '/root/CV_PJT/CV_PJT/data/data/train'\n",
    "\n",
    "def save_rotated_image(image_path, angle, prefix, ID, target):\n",
    "    rotated_id = f'{prefix}_{ID}'\n",
    "    ids.append(rotated_id)\n",
    "    targets.append(target)\n",
    "    rotated_image = np.array(ImageOps.exif_transpose(Image.open(image_path).rotate(angle, expand=True)))\n",
    "    Image.fromarray(rotated_image).save(os.path.join(data_path, rotated_id))\n",
    "\n",
    "for index, ID, target in tqdm(df.itertuples(), desc='Image rotation', mininterval=0.1):\n",
    "    image_path = os.path.join(data_path, ID)\n",
    "    \n",
    "    # Rotate 90, 180, and 270 degrees\n",
    "    # save_rotated_image(image_path, 90, 'r90', ID, target)\n",
    "    # save_rotated_image(image_path, 180, 'r180', ID, target)\n",
    "    # save_rotated_image(image_path, 270, 'r270', ID, target)\n",
    "    \n",
    "    # Rotate 45, 90, 135, 180, 225, and 270 degrees\n",
    "    save_rotated_image(image_path, 45, 'r45', ID, target)\n",
    "    save_rotated_image(image_path, 90, 'r90', ID, target)\n",
    "    save_rotated_image(image_path, 135, 'r135', ID, target)\n",
    "    save_rotated_image(image_path, 180, 'r180', ID, target)\n",
    "    save_rotated_image(image_path, 225, 'r225', ID, target)\n",
    "    save_rotated_image(image_path, 270, 'r270', ID, target)\n",
    "\n",
    "rotate_data = {\n",
    "    'ID': ids,\n",
    "    'target': targets\n",
    "}\n",
    "rotate_df = pd.DataFrame(rotate_data)    \n",
    "df = pd.concat([df, rotate_df])"
   ]
  },
  {
   "cell_type": "code",
   "execution_count": 13,
   "metadata": {},
   "outputs": [],
   "source": [
    "h_flip = A.HorizontalFlip(always_apply=True, p=1)\n",
    "v_flip = A.VerticalFlip(always_apply=True, p=1)"
   ]
  },
  {
   "cell_type": "code",
   "execution_count": 14,
   "metadata": {},
   "outputs": [
    {
     "name": "stderr",
     "output_type": "stream",
     "text": [
      "Image flip: 15700it [02:26, 107.50it/s]\n"
     ]
    }
   ],
   "source": [
    "ids = []\n",
    "targets = []\n",
    "data_path = '/root/CV_PJT/CV_PJT/data/data/train'\n",
    "\n",
    "def save_flipped_image(image, flip_transform, prefix, ID, target):\n",
    "    flipped_id = f'{prefix}_{ID}'\n",
    "    ids.append(flipped_id)\n",
    "    targets.append(target)\n",
    "    flipped_image = flip_transform(image=image)['image']\n",
    "    Image.fromarray(flipped_image).save(os.path.join(data_path, flipped_id))\n",
    "\n",
    "for index, ID, target in tqdm(df.itertuples(), desc='Image flip', mininterval=0.1):\n",
    "    image_path = os.path.join(data_path, ID)\n",
    "    image = np.array(Image.open(image_path))\n",
    "\n",
    "    # Vertical flip for r90 or r270, Horizontal flip otherwise\n",
    "    if ID.startswith('r90') or ID.startswith('r270'):\n",
    "        save_flipped_image(image, v_flip, 'Vflip', ID, target)\n",
    "    else:\n",
    "        save_flipped_image(image, h_flip, 'Hflip', ID, target)\n",
    "\n",
    "# Dataframe for flipped images\n",
    "flip_data = {\n",
    "    'ID': ids,\n",
    "    'target': targets\n",
    "}\n",
    "flip_df = pd.DataFrame(flip_data)    \n",
    "df = pd.concat([df, flip_df])"
   ]
  },
  {
   "cell_type": "code",
   "execution_count": 22,
   "metadata": {},
   "outputs": [],
   "source": [
    "transforms = A.Compose([\n",
    "    A.OneOf([\n",
    "        A.GridDistortion(num_steps=5, distort_limit=0.3, interpolation=1, border_mode=4, value=None, mask_value=None, always_apply=True, p=1),\n",
    "        A.ElasticTransform(always_apply=True, p=1, alpha=1.0, sigma=50.0, alpha_affine=50.0, interpolation=0, border_mode=1, value=(0, 0, 0), mask_value=None, approximate=False),\n",
    "        A.OpticalDistortion(always_apply=True, p=1, distort_limit=(-0.3, -0.1)),\n",
    "        A.OpticalDistortion(always_apply=True, p=1, distort_limit=(0.1, 0.3)),\n",
    "    ], p=0.85),\n",
    "    A.SomeOf([\n",
    "        A.RandomBrightnessContrast(brightness_limit=(-0.2, 0.2), contrast_limit=(-0.2, 0.2), p=1),\n",
    "        A.HueSaturationValue(hue_shift_limit=15, sat_shift_limit=25, val_shift_limit=20, p=1),\n",
    "        A.MultiplicativeNoise(p=1, multiplier=(1, 1.5), per_channel=True),\n",
    "        A.Equalize(p=1, mode='cv', by_channels=True),\n",
    "    ], n=2, p=0.85),\n",
    "    A.OneOf([\n",
    "        A.Rotate(limit=(10, 30), border_mode=cv2.BORDER_CONSTANT, p=1),\n",
    "        A.Rotate(limit=(150, 170), border_mode=cv2.BORDER_CONSTANT, p=1),\n",
    "        A.Rotate(limit=(190, 210), border_mode=cv2.BORDER_CONSTANT, p=1),\n",
    "        A.Rotate(limit=(330, 350), border_mode=cv2.BORDER_CONSTANT, p=1),\n",
    "    ], p=1),\n",
    "    A.CoarseDropout(p=0.5, max_holes=40, max_height=15, max_width=15, min_holes=8, min_height=8, min_width=8),\n",
    "    A.Equalize(p=0.5, mode='cv', by_channels=True),\n",
    "    A.OneOf([\n",
    "        A.Blur(blur_limit=(3, 4), p=1),\n",
    "        A.MotionBlur(blur_limit=(3, 5), p=1),\n",
    "        A.Downscale(scale_min=0.455, scale_max=0.5, interpolation=2, p=1),\n",
    "    ], p=0.5),\n",
    "    A.GaussNoise(var_limit=(100, 800), per_channel=True, p=0.5),\n",
    "])"
   ]
  },
  {
   "cell_type": "code",
   "execution_count": 23,
   "metadata": {},
   "outputs": [
    {
     "name": "stderr",
     "output_type": "stream",
     "text": [
      "Image augmentation: 31400it [6:46:46,  1.29it/s]\n"
     ]
    }
   ],
   "source": [
    "# Define augmentation count based on target\n",
    "def get_augmentation_count(target):\n",
    "    if target == 13:\n",
    "        return 15\n",
    "    elif target == 14:\n",
    "        return 20\n",
    "    elif target == 1:\n",
    "        return 20\n",
    "    else:\n",
    "        return 10\n",
    "\n",
    "ids = []\n",
    "targets = []\n",
    "data_path = '/root/CV_PJT/CV_PJT/data/data/train'\n",
    "\n",
    "for index, ID, target in tqdm(df.itertuples(), desc='Image augmentation', mininterval=0.1):\n",
    "    image_path = os.path.join(data_path, ID)\n",
    "    image = np.array(Image.open(image_path))\n",
    "    n = get_augmentation_count(target)\n",
    "    \n",
    "    for i in range(n):\n",
    "        transformed_image = transforms(image=image)['image']\n",
    "        image_ID = f'tf{i}_{ID}' \n",
    "        ids.append(image_ID)\n",
    "        targets.append(target)\n",
    "        Image.fromarray(transformed_image).save(os.path.join(data_path, image_ID))\n",
    "    \n",
    "# Create augmented DataFrame and concatenate with original\n",
    "aug_data = {\n",
    "    'ID': ids,\n",
    "    'target': targets\n",
    "}\n",
    "aug_df = pd.DataFrame(aug_data)\n",
    "df = pd.concat([df, aug_df])"
   ]
  },
  {
   "cell_type": "code",
   "execution_count": 24,
   "metadata": {},
   "outputs": [],
   "source": [
    "df.to_csv('/root/CV_PJT/CV_PJT/trin4.csv', index=False)"
   ]
  }
 ],
 "metadata": {
  "kernelspec": {
   "display_name": "base",
   "language": "python",
   "name": "python3"
  },
  "language_info": {
   "codemirror_mode": {
    "name": "ipython",
    "version": 3
   },
   "file_extension": ".py",
   "mimetype": "text/x-python",
   "name": "python",
   "nbconvert_exporter": "python",
   "pygments_lexer": "ipython3",
   "version": "3.10.13"
  }
 },
 "nbformat": 4,
 "nbformat_minor": 2
}
